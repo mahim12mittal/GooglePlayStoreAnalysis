{
 "cells": [
  {
   "cell_type": "code",
   "execution_count": 1,
   "id": "e5e4143e",
   "metadata": {},
   "outputs": [],
   "source": [
    "import pyspark \n",
    "from pyspark.sql import *\n",
    "from pyspark.sql.types import StructType, StructField, StringType, IntegerType\n",
    "from pyspark.sql.functions import *"
   ]
  },
  {
   "cell_type": "code",
   "execution_count": 2,
   "id": "b3d8d409",
   "metadata": {},
   "outputs": [
    {
     "name": "stderr",
     "output_type": "stream",
     "text": [
      "23/12/15 15:17:38 WARN Utils: Your hostname, mahims-MacBook-Pro.local resolves to a loopback address: 127.0.0.1; using 10.0.0.26 instead (on interface en0)\n",
      "23/12/15 15:17:38 WARN Utils: Set SPARK_LOCAL_IP if you need to bind to another address\n",
      "Setting default log level to \"WARN\".\n",
      "To adjust logging level use sc.setLogLevel(newLevel). For SparkR, use setLogLevel(newLevel).\n",
      "23/12/15 15:17:38 WARN NativeCodeLoader: Unable to load native-hadoop library for your platform... using builtin-java classes where applicable\n",
      "23/12/15 15:17:39 WARN Utils: Service 'SparkUI' could not bind on port 4040. Attempting port 4041.\n"
     ]
    }
   ],
   "source": [
    "spark = SparkSession.builder.master(\"local[*]\").appName(\"Testing\").getOrCreate()"
   ]
  },
  {
   "cell_type": "code",
   "execution_count": 3,
   "id": "90332bfb",
   "metadata": {},
   "outputs": [],
   "source": [
    "file_path = '/Users/mahimmittal/Desktop/Portfolio/Pyspark/googleplaystore.csv'"
   ]
  },
  {
   "cell_type": "code",
   "execution_count": 4,
   "id": "9233698b",
   "metadata": {},
   "outputs": [],
   "source": [
    "df = spark.read.load(file_path,format='csv',sep=',',header='true',escape='\"',inferSchema='true')"
   ]
  },
  {
   "cell_type": "code",
   "execution_count": 5,
   "id": "140af809",
   "metadata": {},
   "outputs": [
    {
     "data": {
      "text/plain": [
       "10841"
      ]
     },
     "execution_count": 5,
     "metadata": {},
     "output_type": "execute_result"
    }
   ],
   "source": [
    "df.count()"
   ]
  },
  {
   "cell_type": "code",
   "execution_count": 6,
   "id": "f376a225",
   "metadata": {},
   "outputs": [
    {
     "name": "stdout",
     "output_type": "stream",
     "text": [
      "+--------------------+--------------+------+-------+----+--------+----+-----+--------------+------------+---------------+-----------+------------+\n",
      "|                 App|      Category|Rating|Reviews|Size|Installs|Type|Price|Content Rating|      Genres|   Last Updated|Current Ver| Android Ver|\n",
      "+--------------------+--------------+------+-------+----+--------+----+-----+--------------+------------+---------------+-----------+------------+\n",
      "|Photo Editor & Ca...|ART_AND_DESIGN|   4.1|    159| 19M| 10,000+|Free|    0|      Everyone|Art & Design|January 7, 2018|      1.0.0|4.0.3 and up|\n",
      "+--------------------+--------------+------+-------+----+--------+----+-----+--------------+------------+---------------+-----------+------------+\n",
      "only showing top 1 row\n",
      "\n"
     ]
    }
   ],
   "source": [
    "df.show(1)"
   ]
  },
  {
   "cell_type": "code",
   "execution_count": 7,
   "id": "f1337412",
   "metadata": {},
   "outputs": [
    {
     "name": "stdout",
     "output_type": "stream",
     "text": [
      "root\n",
      " |-- App: string (nullable = true)\n",
      " |-- Category: string (nullable = true)\n",
      " |-- Rating: double (nullable = true)\n",
      " |-- Reviews: string (nullable = true)\n",
      " |-- Size: string (nullable = true)\n",
      " |-- Installs: string (nullable = true)\n",
      " |-- Type: string (nullable = true)\n",
      " |-- Price: string (nullable = true)\n",
      " |-- Content Rating: string (nullable = true)\n",
      " |-- Genres: string (nullable = true)\n",
      " |-- Last Updated: string (nullable = true)\n",
      " |-- Current Ver: string (nullable = true)\n",
      " |-- Android Ver: string (nullable = true)\n",
      "\n"
     ]
    }
   ],
   "source": [
    "df.printSchema()"
   ]
  },
  {
   "cell_type": "code",
   "execution_count": 8,
   "id": "7260935c",
   "metadata": {},
   "outputs": [],
   "source": [
    "df=df.drop(\"size\",\"contect rating\", \"Last Updated\",\"Android Ver\")"
   ]
  },
  {
   "cell_type": "code",
   "execution_count": 9,
   "id": "e88bda9e",
   "metadata": {},
   "outputs": [
    {
     "name": "stdout",
     "output_type": "stream",
     "text": [
      "+--------------------+--------------+------+-------+--------+----+-----+--------------+------------+-----------+\n",
      "|                 App|      Category|Rating|Reviews|Installs|Type|Price|Content Rating|      Genres|Current Ver|\n",
      "+--------------------+--------------+------+-------+--------+----+-----+--------------+------------+-----------+\n",
      "|Photo Editor & Ca...|ART_AND_DESIGN|   4.1|    159| 10,000+|Free|    0|      Everyone|Art & Design|      1.0.0|\n",
      "+--------------------+--------------+------+-------+--------+----+-----+--------------+------------+-----------+\n",
      "only showing top 1 row\n",
      "\n"
     ]
    }
   ],
   "source": [
    "df.show(1)"
   ]
  },
  {
   "cell_type": "code",
   "execution_count": 10,
   "id": "f5f7c67e",
   "metadata": {},
   "outputs": [],
   "source": [
    "df = df.drop(\"Current Ver\")"
   ]
  },
  {
   "cell_type": "code",
   "execution_count": 11,
   "id": "f1ad0324",
   "metadata": {},
   "outputs": [
    {
     "data": {
      "text/plain": [
       "DataFrame[App: string, Category: string, Rating: double, Reviews: string, Installs: string, Type: string, Price: string, Content Rating: string, Genres: string]"
      ]
     },
     "execution_count": 11,
     "metadata": {},
     "output_type": "execute_result"
    }
   ],
   "source": [
    "df"
   ]
  },
  {
   "cell_type": "code",
   "execution_count": 12,
   "id": "c3bc4c4a",
   "metadata": {},
   "outputs": [
    {
     "name": "stdout",
     "output_type": "stream",
     "text": [
      "+--------------------+--------------+------+-------+--------+----+-----+--------------+--------------------+\n",
      "|                 App|      Category|Rating|Reviews|Installs|Type|Price|Content Rating|              Genres|\n",
      "+--------------------+--------------+------+-------+--------+----+-----+--------------+--------------------+\n",
      "|Photo Editor & Ca...|ART_AND_DESIGN|   4.1|    159| 10,000+|Free|    0|      Everyone|        Art & Design|\n",
      "| Coloring book moana|ART_AND_DESIGN|   3.9|    967|500,000+|Free|    0|      Everyone|Art & Design;Pret...|\n",
      "+--------------------+--------------+------+-------+--------+----+-----+--------------+--------------------+\n",
      "only showing top 2 rows\n",
      "\n"
     ]
    }
   ],
   "source": [
    "df.show(2)"
   ]
  },
  {
   "cell_type": "code",
   "execution_count": 13,
   "id": "812c597a",
   "metadata": {},
   "outputs": [
    {
     "name": "stdout",
     "output_type": "stream",
     "text": [
      "root\n",
      " |-- App: string (nullable = true)\n",
      " |-- Category: string (nullable = true)\n",
      " |-- Rating: double (nullable = true)\n",
      " |-- Reviews: string (nullable = true)\n",
      " |-- Installs: string (nullable = true)\n",
      " |-- Type: string (nullable = true)\n",
      " |-- Price: string (nullable = true)\n",
      " |-- Content Rating: string (nullable = true)\n",
      " |-- Genres: string (nullable = true)\n",
      "\n"
     ]
    }
   ],
   "source": [
    "df.printSchema()"
   ]
  },
  {
   "cell_type": "code",
   "execution_count": 14,
   "id": "436defcc",
   "metadata": {},
   "outputs": [],
   "source": [
    "df=df.withColumn(\"reviews\",col(\"reviews\").cast(IntegerType()))\\\n",
    ".withColumn(\"installs\",regexp_replace(col(\"Installs\"),\"[^0-9]\",\"\"))\\\n",
    ".withColumn(\"installs\",col(\"installs\").cast(IntegerType()))\\\n",
    "            .withColumn(\"Price\",regexp_replace(col(\"Price\"),\"[$]\",\"\"))\\\n",
    "            .withColumn(\"Price\",col(\"Price\").cast(IntegerType()))"
   ]
  },
  {
   "cell_type": "code",
   "execution_count": 15,
   "id": "d431d46f",
   "metadata": {},
   "outputs": [
    {
     "name": "stdout",
     "output_type": "stream",
     "text": [
      "root\n",
      " |-- App: string (nullable = true)\n",
      " |-- Category: string (nullable = true)\n",
      " |-- Rating: double (nullable = true)\n",
      " |-- reviews: integer (nullable = true)\n",
      " |-- installs: integer (nullable = true)\n",
      " |-- Type: string (nullable = true)\n",
      " |-- Price: integer (nullable = true)\n",
      " |-- Content Rating: string (nullable = true)\n",
      " |-- Genres: string (nullable = true)\n",
      "\n"
     ]
    }
   ],
   "source": [
    "df.printSchema()"
   ]
  },
  {
   "cell_type": "code",
   "execution_count": 16,
   "id": "66dcf69f",
   "metadata": {},
   "outputs": [
    {
     "name": "stdout",
     "output_type": "stream",
     "text": [
      "+--------------------+--------------+------+-------+--------+----+-----+--------------+--------------------+\n",
      "|                 App|      Category|Rating|reviews|installs|Type|Price|Content Rating|              Genres|\n",
      "+--------------------+--------------+------+-------+--------+----+-----+--------------+--------------------+\n",
      "|Photo Editor & Ca...|ART_AND_DESIGN|   4.1|    159|   10000|Free|    0|      Everyone|        Art & Design|\n",
      "| Coloring book moana|ART_AND_DESIGN|   3.9|    967|  500000|Free|    0|      Everyone|Art & Design;Pret...|\n",
      "|U Launcher Lite –...|ART_AND_DESIGN|   4.7|  87510| 5000000|Free|    0|      Everyone|        Art & Design|\n",
      "|Sketch - Draw & P...|ART_AND_DESIGN|   4.5| 215644|50000000|Free|    0|          Teen|        Art & Design|\n",
      "|Pixel Draw - Numb...|ART_AND_DESIGN|   4.3|    967|  100000|Free|    0|      Everyone|Art & Design;Crea...|\n",
      "+--------------------+--------------+------+-------+--------+----+-----+--------------+--------------------+\n",
      "only showing top 5 rows\n",
      "\n"
     ]
    }
   ],
   "source": [
    "df.show(5)"
   ]
  },
  {
   "cell_type": "code",
   "execution_count": 17,
   "id": "6153f414",
   "metadata": {},
   "outputs": [],
   "source": [
    "df.createOrReplaceTempView(\"apps\")\n"
   ]
  },
  {
   "cell_type": "code",
   "execution_count": 19,
   "id": "c20aefcf",
   "metadata": {},
   "outputs": [],
   "source": [
    "result = spark.sql(\"SELECT * FROM apps\")"
   ]
  },
  {
   "cell_type": "code",
   "execution_count": 20,
   "id": "2921b693",
   "metadata": {},
   "outputs": [
    {
     "name": "stdout",
     "output_type": "stream",
     "text": [
      "+--------------------+--------------+------+-------+--------+----+-----+--------------+--------------------+\n",
      "|                 App|      Category|Rating|reviews|installs|Type|Price|Content Rating|              Genres|\n",
      "+--------------------+--------------+------+-------+--------+----+-----+--------------+--------------------+\n",
      "|Photo Editor & Ca...|ART_AND_DESIGN|   4.1|    159|   10000|Free|    0|      Everyone|        Art & Design|\n",
      "| Coloring book moana|ART_AND_DESIGN|   3.9|    967|  500000|Free|    0|      Everyone|Art & Design;Pret...|\n",
      "|U Launcher Lite –...|ART_AND_DESIGN|   4.7|  87510| 5000000|Free|    0|      Everyone|        Art & Design|\n",
      "|Sketch - Draw & P...|ART_AND_DESIGN|   4.5| 215644|50000000|Free|    0|          Teen|        Art & Design|\n",
      "|Pixel Draw - Numb...|ART_AND_DESIGN|   4.3|    967|  100000|Free|    0|      Everyone|Art & Design;Crea...|\n",
      "|Paper flowers ins...|ART_AND_DESIGN|   4.4|    167|   50000|Free|    0|      Everyone|        Art & Design|\n",
      "|Smoke Effect Phot...|ART_AND_DESIGN|   3.8|    178|   50000|Free|    0|      Everyone|        Art & Design|\n",
      "|    Infinite Painter|ART_AND_DESIGN|   4.1|  36815| 1000000|Free|    0|      Everyone|        Art & Design|\n",
      "|Garden Coloring Book|ART_AND_DESIGN|   4.4|  13791| 1000000|Free|    0|      Everyone|        Art & Design|\n",
      "|Kids Paint Free -...|ART_AND_DESIGN|   4.7|    121|   10000|Free|    0|      Everyone|Art & Design;Crea...|\n",
      "|Text on Photo - F...|ART_AND_DESIGN|   4.4|  13880| 1000000|Free|    0|      Everyone|        Art & Design|\n",
      "|Name Art Photo Ed...|ART_AND_DESIGN|   4.4|   8788| 1000000|Free|    0|      Everyone|        Art & Design|\n",
      "|Tattoo Name On My...|ART_AND_DESIGN|   4.2|  44829|10000000|Free|    0|          Teen|        Art & Design|\n",
      "|Mandala Coloring ...|ART_AND_DESIGN|   4.6|   4326|  100000|Free|    0|      Everyone|        Art & Design|\n",
      "|3D Color Pixel by...|ART_AND_DESIGN|   4.4|   1518|  100000|Free|    0|      Everyone|        Art & Design|\n",
      "|Learn To Draw Kaw...|ART_AND_DESIGN|   3.2|     55|    5000|Free|    0|      Everyone|        Art & Design|\n",
      "|Photo Designer - ...|ART_AND_DESIGN|   4.7|   3632|  500000|Free|    0|      Everyone|        Art & Design|\n",
      "|350 Diy Room Deco...|ART_AND_DESIGN|   4.5|     27|   10000|Free|    0|      Everyone|        Art & Design|\n",
      "|FlipaClip - Carto...|ART_AND_DESIGN|   4.3| 194216| 5000000|Free|    0|      Everyone|        Art & Design|\n",
      "|        ibis Paint X|ART_AND_DESIGN|   4.6| 224399|10000000|Free|    0|      Everyone|        Art & Design|\n",
      "+--------------------+--------------+------+-------+--------+----+-----+--------------+--------------------+\n",
      "only showing top 20 rows\n",
      "\n"
     ]
    }
   ],
   "source": [
    "result.show()"
   ]
  },
  {
   "cell_type": "markdown",
   "id": "b119faff",
   "metadata": {},
   "source": [
    "# Top 10 review given to the app"
   ]
  },
  {
   "cell_type": "code",
   "execution_count": 40,
   "id": "ac8b9197",
   "metadata": {},
   "outputs": [],
   "source": [
    "result = spark.sql(\"SELECT app,sum(reviews) from apps group by 1 order by 2 desc\")"
   ]
  },
  {
   "cell_type": "code",
   "execution_count": 41,
   "id": "f254fa37",
   "metadata": {},
   "outputs": [
    {
     "name": "stdout",
     "output_type": "stream",
     "text": [
      "+--------------------+------------+\n",
      "|                 app|sum(reviews)|\n",
      "+--------------------+------------+\n",
      "|           Instagram|   266241989|\n",
      "|  WhatsApp Messenger|   207348304|\n",
      "|      Clash of Clans|   179558781|\n",
      "|Messenger – Text ...|   169932272|\n",
      "|      Subway Surfers|   166331958|\n",
      "|    Candy Crush Saga|   156993136|\n",
      "|            Facebook|   156286514|\n",
      "|         8 Ball Pool|    99386198|\n",
      "|        Clash Royale|    92530298|\n",
      "|            Snapchat|    68045010|\n",
      "|     Viber Messenger|    56675481|\n",
      "|UC Browser - Fast...|    53140694|\n",
      "|             YouTube|    51278853|\n",
      "|        Temple Run 2|    48710930|\n",
      "|Sniper 3D Gun Sho...|    46022233|\n",
      "|      My Talking Tom|    44668928|\n",
      "|Duolingo: Learn L...|    44047832|\n",
      "|       Google Photos|    43423827|\n",
      "|Clean Master- Spa...|    42916526|\n",
      "|                 Pou|    41939801|\n",
      "+--------------------+------------+\n",
      "only showing top 20 rows\n",
      "\n"
     ]
    }
   ],
   "source": [
    "result.show()"
   ]
  },
  {
   "cell_type": "markdown",
   "id": "b7a98dde",
   "metadata": {},
   "source": [
    "# Top 10 Install App"
   ]
  },
  {
   "cell_type": "code",
   "execution_count": 44,
   "id": "6a242264",
   "metadata": {},
   "outputs": [],
   "source": [
    "result = spark.sql(\"Select app, type ,sum(installs) from apps group by 1,2 order by 3 desc\")"
   ]
  },
  {
   "cell_type": "code",
   "execution_count": 45,
   "id": "269eafe5",
   "metadata": {},
   "outputs": [
    {
     "name": "stdout",
     "output_type": "stream",
     "text": [
      "+--------------------+----+-------------+\n",
      "|                 app|type|sum(installs)|\n",
      "+--------------------+----+-------------+\n",
      "|      Subway Surfers|Free|   6000000000|\n",
      "|           Instagram|Free|   4000000000|\n",
      "|        Google Drive|Free|   4000000000|\n",
      "|            Hangouts|Free|   4000000000|\n",
      "|       Google Photos|Free|   4000000000|\n",
      "|         Google News|Free|   4000000000|\n",
      "|    Candy Crush Saga|Free|   3500000000|\n",
      "|  WhatsApp Messenger|Free|   3000000000|\n",
      "|               Gmail|Free|   3000000000|\n",
      "|        Temple Run 2|Free|   3000000000|\n",
      "|Skype - free IM &...|Free|   3000000000|\n",
      "|Google Chrome: Fa...|Free|   3000000000|\n",
      "|Messenger – Text ...|Free|   3000000000|\n",
      "|Maps - Navigate &...|Free|   3000000000|\n",
      "|     Viber Messenger|Free|   2500000000|\n",
      "|   Google Play Games|Free|   2000000000|\n",
      "|            Facebook|Free|   2000000000|\n",
      "|            Snapchat|Free|   2000000000|\n",
      "|imo free video ca...|Free|   2000000000|\n",
      "|  Google Street View|Free|   2000000000|\n",
      "+--------------------+----+-------------+\n",
      "only showing top 20 rows\n",
      "\n"
     ]
    }
   ],
   "source": [
    "result.show()"
   ]
  },
  {
   "cell_type": "markdown",
   "id": "ccc82dda",
   "metadata": {},
   "source": [
    "# Category Wise Distribution"
   ]
  },
  {
   "cell_type": "code",
   "execution_count": 49,
   "id": "c7ee075b",
   "metadata": {},
   "outputs": [],
   "source": [
    "result = spark.sql(\"Select Category ,sum(installs) from apps group by 1 order by 2 desc\")"
   ]
  },
  {
   "cell_type": "code",
   "execution_count": 50,
   "id": "3a6cdc09",
   "metadata": {
    "scrolled": true
   },
   "outputs": [
    {
     "name": "stdout",
     "output_type": "stream",
     "text": [
      "+-------------------+-------------+\n",
      "|           Category|sum(installs)|\n",
      "+-------------------+-------------+\n",
      "|               GAME|  35086024415|\n",
      "|      COMMUNICATION|  32647276251|\n",
      "|       PRODUCTIVITY|  14176091369|\n",
      "|             SOCIAL|  14069867902|\n",
      "|              TOOLS|  11452771915|\n",
      "|             FAMILY|  10258263505|\n",
      "|        PHOTOGRAPHY|  10088247655|\n",
      "| NEWS_AND_MAGAZINES|   7496317760|\n",
      "|   TRAVEL_AND_LOCAL|   6868887146|\n",
      "|      VIDEO_PLAYERS|   6222002720|\n",
      "|           SHOPPING|   3247848785|\n",
      "|      ENTERTAINMENT|   2869160000|\n",
      "|    PERSONALIZATION|   2325494782|\n",
      "|BOOKS_AND_REFERENCE|   1921469576|\n",
      "|             SPORTS|   1751174498|\n",
      "| HEALTH_AND_FITNESS|   1583072512|\n",
      "|           BUSINESS|   1001914865|\n",
      "|            FINANCE|    876648734|\n",
      "|          EDUCATION|    871452000|\n",
      "|MAPS_AND_NAVIGATION|    724281890|\n",
      "+-------------------+-------------+\n",
      "only showing top 20 rows\n",
      "\n"
     ]
    }
   ],
   "source": [
    "result.show()"
   ]
  },
  {
   "cell_type": "markdown",
   "id": "c4c8aae8",
   "metadata": {},
   "source": [
    "# Top Paid Apps"
   ]
  },
  {
   "cell_type": "code",
   "execution_count": 61,
   "id": "b1a35423",
   "metadata": {},
   "outputs": [],
   "source": [
    "result = spark.sql(\"Select app, sum(price) from apps where Type='Paid' group by 1 order by 2 desc\")"
   ]
  },
  {
   "cell_type": "code",
   "execution_count": 62,
   "id": "c60d8eb3",
   "metadata": {},
   "outputs": [
    {
     "name": "stdout",
     "output_type": "stream",
     "text": [
      "+--------------------+----------+\n",
      "|                 app|sum(price)|\n",
      "+--------------------+----------+\n",
      "|I'm Rich - Trump ...|       400|\n",
      "|   I Am Rich Premium|       399|\n",
      "|  I AM RICH PRO PLUS|       399|\n",
      "|I'm Rich/Eu sou R...|       399|\n",
      "|      I am Rich Plus|       399|\n",
      "|most expensive ap...|       399|\n",
      "|       I Am Rich Pro|       399|\n",
      "|  I am rich(premium)|       399|\n",
      "|           I am Rich|       399|\n",
      "|          I am Rich!|       399|\n",
      "|         💎 I'm rich|       399|\n",
      "|I am rich (Most e...|       399|\n",
      "|           I am rich|       399|\n",
      "|         Eu Sou Rico|       394|\n",
      "|           I Am Rich|       389|\n",
      "| I am extremely Rich|       379|\n",
      "|       I am rich VIP|       299|\n",
      "|        EP Cook Book|       200|\n",
      "|Vargo Anesthesia ...|       158|\n",
      "|       cronometra-br|       154|\n",
      "+--------------------+----------+\n",
      "only showing top 20 rows\n",
      "\n"
     ]
    }
   ],
   "source": [
    "result.show()"
   ]
  },
  {
   "cell_type": "code",
   "execution_count": null,
   "id": "778e779e",
   "metadata": {},
   "outputs": [],
   "source": []
  }
 ],
 "metadata": {
  "kernelspec": {
   "display_name": "Python 3 (ipykernel)",
   "language": "python",
   "name": "python3"
  },
  "language_info": {
   "codemirror_mode": {
    "name": "ipython",
    "version": 3
   },
   "file_extension": ".py",
   "mimetype": "text/x-python",
   "name": "python",
   "nbconvert_exporter": "python",
   "pygments_lexer": "ipython3",
   "version": "3.11.5"
  }
 },
 "nbformat": 4,
 "nbformat_minor": 5
}
